{
 "cells": [
  {
   "cell_type": "code",
   "execution_count": 1,
   "id": "fa41a8d0",
   "metadata": {},
   "outputs": [],
   "source": [
    "from openpyxl import *\n",
    "from tkinter import *"
   ]
  },
  {
   "cell_type": "code",
   "execution_count": 3,
   "id": "62008315",
   "metadata": {},
   "outputs": [],
   "source": [
    "wb = load_workbook('Book1.xlsx')\n",
    "sheet = wb.active"
   ]
  },
  {
   "cell_type": "code",
   "execution_count": 4,
   "id": "c77cbdaa",
   "metadata": {},
   "outputs": [],
   "source": [
    "def excel():\n",
    "    sheet.column_dimensions['A'].width = 30\n",
    "    sheet.column_dimensions['B'].width = 10\n",
    "    sheet.column_dimensions['C'].width = 10\n",
    "    sheet.column_dimensions['D'].width = 20\n",
    "    sheet.column_dimensions['E'].width = 20\n",
    "    sheet.column_dimensions['F'].width = 40\n",
    "    sheet.column_dimensions['G'].width = 50\n",
    "    sheet.cell(row=1, column=1).value = \"Name\"\n",
    "    sheet.cell(row=1, column=2).value = \"Course\"\n",
    "    sheet.cell(row=1, column=3).value = \"Semester\"\n",
    "    sheet.cell(row=1, column=4).value = \"Roll Number\"\n",
    "    sheet.cell(row=1, column=5).value = \"Contact Number\"\n",
    "    sheet.cell(row=1, column=6).value = \"Email id\"\n",
    "    sheet.cell(row=1, column=7).value = \"Address\""
   ]
  },
  {
   "cell_type": "code",
   "execution_count": 5,
   "id": "49e648c4",
   "metadata": {},
   "outputs": [],
   "source": [
    "def focus1(event):\n",
    "    course_field.focus_set()"
   ]
  },
  {
   "cell_type": "code",
   "execution_count": 6,
   "id": "0f518ec0",
   "metadata": {},
   "outputs": [],
   "source": [
    "def focus2(event):\n",
    "    sem_field.focus_set()"
   ]
  },
  {
   "cell_type": "code",
   "execution_count": 7,
   "id": "d2e45b71",
   "metadata": {},
   "outputs": [],
   "source": [
    "def focus3(event):\n",
    "    roll_no_field.focus_set()"
   ]
  },
  {
   "cell_type": "code",
   "execution_count": 8,
   "id": "e6fc56b2",
   "metadata": {},
   "outputs": [],
   "source": [
    "def focus4(event):\n",
    "    contact_no_field.focus_set()"
   ]
  },
  {
   "cell_type": "code",
   "execution_count": 9,
   "id": "78714f0f",
   "metadata": {},
   "outputs": [],
   "source": [
    "def focus5(event):\n",
    "    email_id_field.focus_set()\n",
    " "
   ]
  },
  {
   "cell_type": "code",
   "execution_count": 10,
   "id": "ad56931b",
   "metadata": {},
   "outputs": [],
   "source": [
    "def focus6(event):\n",
    "    address_field.focus_set()"
   ]
  },
  {
   "cell_type": "code",
   "execution_count": 12,
   "id": "853bb1d9",
   "metadata": {},
   "outputs": [],
   "source": [
    "def clear():\n",
    "    name_field.delete(0, END)\n",
    "    course_field.delete(0, END)\n",
    "    sem_field.delete(0, END)\n",
    "    roll_no_field.delete(0, END)\n",
    "    contact_no_field.delete(0, END)\n",
    "    email_id_field.delete(0, END)\n",
    "    address_field.delete(0, END)\n",
    " "
   ]
  },
  {
   "cell_type": "code",
   "execution_count": 13,
   "id": "15828b6a",
   "metadata": {},
   "outputs": [],
   "source": [
    "def insert():\n",
    "    if (name_field.get() == \"\" and\n",
    "        course_field.get() == \"\" and\n",
    "        sem_field.get() == \"\" and\n",
    "        roll_no_field.get() == \"\" and\n",
    "        contact_no_field.get() == \"\" and\n",
    "        email_id_field.get() == \"\" and\n",
    "        address_field.get() == \"\"):\n",
    "             \n",
    "        print(\"empty input\")\n",
    " \n",
    "    else:\n",
    "        current_row = sheet.max_row\n",
    "        current_column = sheet.max_column\n",
    "        sheet.cell(row=current_row + 1, column=1).value = name_field.get()\n",
    "        sheet.cell(row=current_row + 1, column=2).value = course_field.get()\n",
    "        sheet.cell(row=current_row + 1, column=3).value = sem_field.get()\n",
    "        sheet.cell(row=current_row + 1, column=4).value = roll_no_field.get()\n",
    "        sheet.cell(row=current_row + 1, column=5).value = contact_no_field.get()\n",
    "        sheet.cell(row=current_row + 1, column=6).value = email_id_field.get()\n",
    "        sheet.cell(row=current_row + 1, column=7).value = address_field.get()\n",
    "        wb.save('Book1.xlsx')\n",
    "        name_field.focus_set()\n",
    "        clear()"
   ]
  },
  {
   "cell_type": "code",
   "execution_count": 18,
   "id": "172b6869",
   "metadata": {},
   "outputs": [],
   "source": [
    "if __name__ == \"__main__\":\n",
    "    root = Tk()\n",
    "    root.configure(background='light green')\n",
    "    root.title(\"registration form\")\n",
    "    root.geometry(\"500x300\")\n",
    " \n",
    "    excel()\n",
    "    heading = Label(root, text=\"Form\", bg=\"light green\")\n",
    "    name = Label(root, text=\"Name\", bg=\"light green\")\n",
    "    course = Label(root, text=\"Course\", bg=\"light green\")\n",
    "    sem = Label(root, text=\"Semester\", bg=\"light green\")\n",
    "    roll_no = Label(root, text=\"Roll No.\", bg=\"light green\")\n",
    "    contact_no = Label(root, text=\"Contact No.\", bg=\"light green\")\n",
    "    email_id = Label(root, text=\"Email id\", bg=\"light green\")\n",
    "    address = Label(root, text=\"Address\", bg=\"light green\")\n",
    "    heading.grid(row=0, column=1)\n",
    "    name.grid(row=1, column=0)\n",
    "    course.grid(row=2, column=0)\n",
    "    sem.grid(row=3, column=0)\n",
    "    roll_no.grid(row=4, column=0)\n",
    "    contact_no.grid(row=5, column=0)\n",
    "    email_id.grid(row=6, column=0)\n",
    "    address.grid(row=7, column=0)\n",
    "    name_field = Entry(root)\n",
    "    course_field = Entry(root)\n",
    "    sem_field = Entry(root)\n",
    "    roll_no_field = Entry(root)\n",
    "    contact_no_field = Entry(root)\n",
    "    email_id_field = Entry(root)\n",
    "    address_field = Entry(root)\n",
    "    name_field.bind(\"<Return>\", focus1)\n",
    "    course_field.bind(\"<Return>\", focus2)\n",
    "    sem_field.bind(\"<Return>\", focus3)\n",
    "    roll_no_field.bind(\"<Return>\", focus4)\n",
    "    contact_no_field.bind(\"<Return>\", focus5)\n",
    "    email_id_field.bind(\"<Return>\", focus6)\n",
    "    name_field.grid(row=1, column=1, ipadx=\"100\")\n",
    "    course_field.grid(row=2, column=1, ipadx=\"100\")\n",
    "    sem_field.grid(row=3, column=1, ipadx=\"100\")\n",
    "    roll_no_field.grid(row=4, column=1, ipadx=\"100\")\n",
    "    contact_no_field.grid(row=5, column=1, ipadx=\"100\")\n",
    "    email_id_field.grid(row=6, column=1, ipadx=\"100\")\n",
    "    address_field.grid(row=7, column=1, ipadx=\"100\")\n",
    "    excel()\n",
    "    submit = Button(root, text=\"Submit\", fg=\"Black\",\n",
    "                            bg=\"Red\", command=insert)\n",
    "    submit.grid(row=8, column=1)\n",
    "    root.mainloop()"
   ]
  },
  {
   "cell_type": "code",
   "execution_count": null,
   "id": "3e9bbcca",
   "metadata": {},
   "outputs": [],
   "source": []
  }
 ],
 "metadata": {
  "kernelspec": {
   "display_name": "Python 3",
   "language": "python",
   "name": "python3"
  },
  "language_info": {
   "codemirror_mode": {
    "name": "ipython",
    "version": 3
   },
   "file_extension": ".py",
   "mimetype": "text/x-python",
   "name": "python",
   "nbconvert_exporter": "python",
   "pygments_lexer": "ipython3",
   "version": "3.8.8"
  }
 },
 "nbformat": 4,
 "nbformat_minor": 5
}
